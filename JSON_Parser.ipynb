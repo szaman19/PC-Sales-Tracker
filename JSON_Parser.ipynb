{
 "cells": [
  {
   "cell_type": "code",
   "execution_count": 1,
   "metadata": {},
   "outputs": [],
   "source": [
    "import json \n",
    "import requests as r"
   ]
  },
  {
   "cell_type": "code",
   "execution_count": 72,
   "metadata": {},
   "outputs": [],
   "source": [
    "url = \"https://json.reddit.com/r/buildapcsales/\"\n",
    "json = r.request('GET', url)\n",
    "valid_call = json.ok"
   ]
  },
  {
   "cell_type": "code",
   "execution_count": 73,
   "metadata": {},
   "outputs": [],
   "source": [
    "json_obj = None\n",
    "if json.ok:\n",
    "    json_obj = json.json()\n",
    "else:\n",
    "    print(\"Failed getting JSON\")"
   ]
  },
  {
   "cell_type": "code",
   "execution_count": 74,
   "metadata": {
    "collapsed": true
   },
   "outputs": [
    {
     "name": "stdout",
     "output_type": "stream",
     "text": [
      "<h2>[CPU] AMD Ryzen 3900X 3.8GHz 12-Core AM4 Boxed Processor with Wraith Prism Cooler - $389.99 (Microcenter - In-Store Only)<\\h2>\n",
      "<strong>CPU/<strong>\n",
      "<h2>[CPU] AMD Ryzen Threadripper 3990X 2.9 GHz 64-Core TRX4 Processor 3,449.00 (3,699.99-250.99)<\\h2>\n",
      "<strong>CPU/<strong>\n",
      "<h2>[PSU] Apevia ATX-PR600W Prestige 600W 80+ Gold $49.99(Listed price $79.99-$30)<\\h2>\n",
      "<strong>PSU/<strong>\n",
      "<h2>[RAM] *B-Die* Patriot Viper Steel 16GB (2 x 8GB) DDR4 4000 cl19 - $94.99<\\h2>\n",
      "<strong>RAM/<strong>\n"
     ]
    }
   ],
   "source": [
    "deals = json_obj['data']['children']\n",
    "\n",
    "search_parts = ['CPU', 'RAM', 'PSU']\n",
    "\n",
    "html_content = \"\"\n",
    "for deal in deals:\n",
    "    if (deal['data'][\"link_flair_text\"] in search_parts):\n",
    "        title = \"<h2>\" + deal['data']['title'] + \"<\\h2>\"\n",
    "        part_type = \"<strong>\"+deal['data'][\"link_flair_text\"] + \"/<strong>\"\n",
    "        html_content += title + part_type  + \"<br>\""
   ]
  },
  {
   "cell_type": "code",
   "execution_count": 57,
   "metadata": {},
   "outputs": [],
   "source": [
    "from sendgrid import SendGridAPIClient\n",
    "from sendgrid.helpers.mail import Mail"
   ]
  },
  {
   "cell_type": "code",
   "execution_count": 75,
   "metadata": {},
   "outputs": [
    {
     "name": "stdout",
     "output_type": "stream",
     "text": [
      "202\n",
      "b''\n",
      "Server: nginx\n",
      "Date: Wed, 20 May 2020 01:01:16 GMT\n",
      "Content-Length: 0\n",
      "Connection: close\n",
      "X-Message-Id: 43iu3L9jRTSywV1I8pyh7A\n",
      "Access-Control-Allow-Origin: https://sendgrid.api-docs.io\n",
      "Access-Control-Allow-Methods: POST\n",
      "Access-Control-Allow-Headers: Authorization, Content-Type, On-behalf-of, x-sg-elas-acl\n",
      "Access-Control-Max-Age: 600\n",
      "X-No-CORS-Reason: https://sendgrid.com/docs/Classroom/Basics/API/cors.html\n",
      "\n",
      "\n"
     ]
    }
   ],
   "source": [
    "message = Mail(\n",
    "    from_email = \"shehtabzaman@gmail.com\",\n",
    "    to_emails = \"shehtabzaman@gmail.com\",\n",
    "    subject = \"Twilio Sendgrid\",\n",
    "    html_content = html_content\n",
    ")\n",
    "\n",
    "try:\n",
    "    api_key_file = open(\"SG_KEY.txt\",\"r\")\n",
    "    api_key = api_key_file.read().strip()\n",
    "    \n",
    "    sg = SendGridAPIClient(api_key)\n",
    "    response = sg.send(message)\n",
    "    print(response.status_code)\n",
    "    print(response.body)\n",
    "    print(response.headers)\n",
    "    api_key_file.close()\n",
    "except Exception as e:\n",
    "    print(e)"
   ]
  },
  {
   "cell_type": "code",
   "execution_count": null,
   "metadata": {},
   "outputs": [],
   "source": []
  }
 ],
 "metadata": {
  "kernelspec": {
   "display_name": "Python 3",
   "language": "python",
   "name": "python3"
  },
  "language_info": {
   "codemirror_mode": {
    "name": "ipython",
    "version": 3
   },
   "file_extension": ".py",
   "mimetype": "text/x-python",
   "name": "python",
   "nbconvert_exporter": "python",
   "pygments_lexer": "ipython3",
   "version": "3.7.4"
  }
 },
 "nbformat": 4,
 "nbformat_minor": 4
}
